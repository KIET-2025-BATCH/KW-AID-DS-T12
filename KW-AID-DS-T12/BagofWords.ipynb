{
  "cells": [
    {
      "cell_type": "code",
      "execution_count": 1,
      "metadata": {},
      "outputs": [
        {
          "name": "stdout",
          "output_type": "stream",
          "text": [
            "Requirement already satisfied: lightgbm in c:\\users\\hp\\appdata\\local\\programs\\python\\python311\\lib\\site-packages (4.6.0)\n",
            "Requirement already satisfied: numpy>=1.17.0 in c:\\users\\hp\\appdata\\local\\programs\\python\\python311\\lib\\site-packages (from lightgbm) (1.26.4)\n",
            "Requirement already satisfied: scipy in c:\\users\\hp\\appdata\\local\\programs\\python\\python311\\lib\\site-packages (from lightgbm) (1.13.1)\n"
          ]
        },
        {
          "name": "stderr",
          "output_type": "stream",
          "text": [
            "\n",
            "[notice] A new release of pip is available: 23.1.2 -> 25.0.1\n",
            "[notice] To update, run: python.exe -m pip install --upgrade pip\n"
          ]
        },
        {
          "name": "stdout",
          "output_type": "stream",
          "text": [
            "Requirement already satisfied: xgboost in c:\\users\\hp\\appdata\\local\\programs\\python\\python311\\lib\\site-packages (2.1.4)\n",
            "Requirement already satisfied: numpy in c:\\users\\hp\\appdata\\local\\programs\\python\\python311\\lib\\site-packages (from xgboost) (1.26.4)\n",
            "Requirement already satisfied: scipy in c:\\users\\hp\\appdata\\local\\programs\\python\\python311\\lib\\site-packages (from xgboost) (1.13.1)\n"
          ]
        },
        {
          "name": "stderr",
          "output_type": "stream",
          "text": [
            "\n",
            "[notice] A new release of pip is available: 23.1.2 -> 25.0.1\n",
            "[notice] To update, run: python.exe -m pip install --upgrade pip\n"
          ]
        }
      ],
      "source": [
        "!pip install lightgbm\n",
        "!pip install xgboost\n"
      ]
    },
    {
      "cell_type": "code",
      "execution_count": 2,
      "metadata": {},
      "outputs": [
        {
          "name": "stdout",
          "output_type": "stream",
          "text": [
            "Requirement already satisfied: tabulate in c:\\users\\hp\\appdata\\local\\programs\\python\\python311\\lib\\site-packages (0.9.0)\n"
          ]
        },
        {
          "name": "stderr",
          "output_type": "stream",
          "text": [
            "\n",
            "[notice] A new release of pip is available: 23.1.2 -> 25.0.1\n",
            "[notice] To update, run: python.exe -m pip install --upgrade pip\n"
          ]
        }
      ],
      "source": [
        "!pip install tabulate\n"
      ]
    },
    {
      "cell_type": "code",
      "execution_count": 1,
      "metadata": {},
      "outputs": [
        {
          "name": "stderr",
          "output_type": "stream",
          "text": [
            "C:\\Users\\HP\\AppData\\Local\\Temp\\ipykernel_13112\\3134007845.py:30: FutureWarning: A value is trying to be set on a copy of a DataFrame or Series through chained assignment using an inplace method.\n",
            "The behavior will change in pandas 3.0. This inplace method will never work because the intermediate object on which we are setting values always behaves as a copy.\n",
            "\n",
            "For example, when doing 'df[col].method(value, inplace=True)', try using 'df.method({col: value}, inplace=True)' or df[col] = df[col].method(value) instead, to perform the operation inplace on the original object.\n",
            "\n",
            "\n",
            "  df['text_preprocessed'].replace('', np.nan, inplace=True)\n"
          ]
        },
        {
          "name": "stdout",
          "output_type": "stream",
          "text": [
            "Bag of words saved to 'bag_of_words.txt'\n",
            "+---------------------+------------+-------------+----------+------------+\n",
            "| Model               |   Accuracy |   Precision |   Recall |   F1 Score |\n",
            "+=====================+============+=============+==========+============+\n",
            "| Logistic Regression |   0.905066 |    0.909291 | 0.870639 |   0.888213 |\n",
            "+---------------------+------------+-------------+----------+------------+\n"
          ]
        }
      ],
      "source": [
        "import pandas as pd\n",
        "import numpy as np\n",
        "import re\n",
        "from sklearn.feature_extraction.text import CountVectorizer\n",
        "from sklearn.model_selection import train_test_split\n",
        "from sklearn.linear_model import LogisticRegression\n",
        "from sklearn.preprocessing import LabelEncoder\n",
        "from sklearn.metrics import accuracy_score, classification_report\n",
        "from tabulate import tabulate\n",
        "\n",
        "# Define preprocessing function\n",
        "def preprocess_text(text):\n",
        "    if isinstance(text, str):\n",
        "        text = text.lower()\n",
        "        text = re.sub(r'[^\\w\\s]', '', text)\n",
        "        return text\n",
        "    return \"\"\n",
        "\n",
        "# Load dataset\n",
        "csv_file = r\"C:\\Users\\HP\\OneDrive\\Desktop\\new_pro\\new_dataset.csv\"\n",
        "df = pd.read_csv(csv_file, low_memory=False)\n",
        "\n",
        "# Apply text preprocessing\n",
        "if 'description' in df.columns and 'label' in df.columns:\n",
        "    df['text_preprocessed'] = df['description'].apply(preprocess_text)\n",
        "else:\n",
        "    raise ValueError(\"CSV file must contain 'description' and 'label' columns\")\n",
        "\n",
        "# Ensure no empty texts remain\n",
        "df['text_preprocessed'].replace('', np.nan, inplace=True)\n",
        "df.dropna(subset=['text_preprocessed'], inplace=True)\n",
        "\n",
        "# Use CountVectorizer to create a Bag of Words (sparse matrix)\n",
        "vectorizer = CountVectorizer(max_features=10000)\n",
        "X = vectorizer.fit_transform(df['text_preprocessed'])\n",
        "\n",
        "# Save bag of words to a file\n",
        "vocab = vectorizer.get_feature_names_out()\n",
        "with open(\"bag_of_words.txt\", 'w') as file:\n",
        "    for word in vocab:\n",
        "        file.write(f'{word}\\n')\n",
        "print(\"Bag of words saved to 'bag_of_words.txt'\")\n",
        "\n",
        "# Encode labels\n",
        "label_encoder = LabelEncoder()\n",
        "y = label_encoder.fit_transform(df['label'])\n",
        "\n",
        "# Split data into train and test sets with stratification\n",
        "X_train, X_test, y_train, y_test = train_test_split(X, y, test_size=0.2, random_state=42, stratify=y)\n",
        "\n",
        "# Define and train Logistic Regression model\n",
        "lr_model = LogisticRegression(C=1.0, solver='lbfgs', max_iter=1000)\n",
        "lr_model.fit(X_train, y_train)\n",
        "\n",
        "# Make predictions with Logistic Regression\n",
        "y_pred_lr = lr_model.predict(X_test)\n",
        "\n",
        "# Evaluate the Logistic Regression model\n",
        "lr_accuracy = accuracy_score(y_test, y_pred_lr)\n",
        "lr_report = classification_report(y_test, y_pred_lr, target_names=label_encoder.classes_, output_dict=True)\n",
        "lr_precision = lr_report['macro avg']['precision']\n",
        "lr_recall = lr_report['macro avg']['recall']\n",
        "lr_f1_score = lr_report['macro avg']['f1-score']\n",
        "\n",
        "# Add Logistic Regression results to the table\n",
        "results = [[\"Logistic Regression\", lr_accuracy, lr_precision, lr_recall, lr_f1_score]]\n",
        "headers = [\"Model\", \"Accuracy\", \"Precision\", \"Recall\", \"F1 Score\"]\n",
        "\n",
        "# Display the final result in a clean table\n",
        "print(tabulate(results, headers=headers, tablefmt=\"grid\"))\n"
      ]
    }
  ],
  "metadata": {
    "colab": {
      "provenance": []
    },
    "kernelspec": {
      "display_name": "Python 3",
      "name": "python3"
    },
    "language_info": {
      "codemirror_mode": {
        "name": "ipython",
        "version": 3
      },
      "file_extension": ".py",
      "mimetype": "text/x-python",
      "name": "python",
      "nbconvert_exporter": "python",
      "pygments_lexer": "ipython3",
      "version": "3.11.4"
    }
  },
  "nbformat": 4,
  "nbformat_minor": 0
}
